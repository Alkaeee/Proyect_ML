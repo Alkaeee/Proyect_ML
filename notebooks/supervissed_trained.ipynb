{
 "cells": [
  {
   "cell_type": "code",
   "execution_count": 2,
   "metadata": {},
   "outputs": [],
   "source": [
    "import pandas as pd\n",
    "import numpy as np\n",
    "import matplotlib.pyplot as plt\n",
    "from sklearn import datasets\n",
    "from sklearn.linear_model import LogisticRegression \n",
    "from sklearn.model_selection import GridSearchCV\n",
    "from sklearn.metrics import accuracy_score\n",
    "from sklearn.preprocessing import StandardScaler, LabelEncoder\n",
    "from sklearn.ensemble import RandomForestClassifier\n",
    "from sklearn.tree import DecisionTreeClassifier\n",
    "from sklearn.neighbors import KNeighborsClassifier\n",
    "from sklearn.svm import SVC\n",
    "from sklearn.feature_selection import SelectKBest\n",
    "from sklearn.pipeline import Pipeline\n",
    "from sklearn.ensemble import GradientBoostingRegressor\n",
    "import pickle\n",
    "import yaml\n",
    "pd.set_option('display.max_columns', None)\n",
    "import warnings\n",
    "warnings.filterwarnings('ignore')"
   ]
  },
  {
   "cell_type": "markdown",
   "metadata": {},
   "source": [
    "# SUPERVISED CLASSIFICATION MODELS"
   ]
  },
  {
   "cell_type": "code",
   "execution_count": 3,
   "metadata": {},
   "outputs": [],
   "source": [
    "df_train = pd.read_csv(\"..\\\\data\\\\datasets\\\\train.csv\", sep=\";\")\n",
    "df_test = pd.read_csv(\"..\\\\data\\\\datasets\\\\test.csv\", sep=\";\")"
   ]
  },
  {
   "cell_type": "code",
   "execution_count": 4,
   "metadata": {},
   "outputs": [],
   "source": [
    "df_train.drop(columns=\"Unnamed: 0\", inplace=True)\n",
    "df_test.drop(columns=\"Unnamed: 0\", inplace=True)"
   ]
  },
  {
   "cell_type": "code",
   "execution_count": 5,
   "metadata": {},
   "outputs": [],
   "source": [
    "X_train = df_train.drop(columns=[\"name_img\",\"name_img_encode\"])\n",
    "y_train = df_train[\"name_img_encode\"]"
   ]
  },
  {
   "cell_type": "code",
   "execution_count": 6,
   "metadata": {},
   "outputs": [],
   "source": [
    "# LogisticRegression\n",
    "\n",
    "reg_log = Pipeline(steps = [\n",
    "    (\"scaler\", StandardScaler()),\n",
    "    (\"reglog\", LogisticRegression())\n",
    "])\n",
    "reg_log_param = {\n",
    "    \"reglog__penalty\": ['l1', 'l2'],\n",
    "    \"reglog__C\": np.logspace(0, 4, 10)\n",
    "}\n",
    "\n",
    "# Random forest \n",
    "rand_forest =  RandomForestClassifier()\n",
    "rand_forest_param = {\n",
    "    \"n_estimators\": [10, 100, 1000],\n",
    "    \"max_features\": [3,4,5]\n",
    "}\n",
    "\n",
    "# SVC\n",
    "svm = Pipeline(steps=[\n",
    "    (\"scaler\", StandardScaler()),\n",
    "    (\"selectkbest\", SelectKBest()),\n",
    "    (\"svm\", SVC())\n",
    "])\n",
    "svm_param = {\n",
    "    'selectkbest__k': [4, 8],\n",
    "    'svm__kernel': ['linear', 'rbf'],\n",
    "    'svm__C': [0.01, 0.1, 0.5],\n",
    "    'svm__degree': [1,2,3],\n",
    "    'svm__gamma': ['scale', 'auto']\n",
    "}\n",
    "\n",
    "# KNM\n",
    "knc =  KNeighborsClassifier()\n",
    "knc_param = {\n",
    "    'n_neighbors' : [5,6,7,8]\n",
    "}\n",
    "\n",
    "# Decision Tree\n",
    "dtree_clf = Pipeline(steps=( \n",
    "    (\"scaler\", StandardScaler()),\n",
    "    (\"dtree\", DecisionTreeClassifier())\n",
    "))\n",
    "\n",
    "dtree_param = {\n",
    "    \"dtree__max_depth\": [50,100],\n",
    "    \"dtree__max_leaf_nodes\": [20,30],\n",
    "}\n",
    "\n",
    "gs_reg_log = GridSearchCV(reg_log,\n",
    "                         reg_log_param,\n",
    "                         cv = 3,\n",
    "                         scoring = 'accuracy',\n",
    "                         verbose = 1,\n",
    "                         n_jobs=-1)\n",
    "\n",
    "gs_rand_forest = GridSearchCV(rand_forest,\n",
    "                         rand_forest_param,\n",
    "                         cv = 3,\n",
    "                         scoring = 'accuracy',\n",
    "                         verbose = 1,\n",
    "                         n_jobs=-1)\n",
    "\n",
    "gs_svm = GridSearchCV(svm,\n",
    "                         svm_param,\n",
    "                         cv = 3,\n",
    "                         scoring = 'accuracy',\n",
    "                         verbose = 1,\n",
    "                         n_jobs=-1)\n",
    "\n",
    "gs_knc= GridSearchCV(knc,\n",
    "                         knc_param,\n",
    "                         cv = 3,\n",
    "                         scoring = 'accuracy',\n",
    "                         verbose = 1,\n",
    "                         n_jobs=-1)\n",
    "\n",
    "gs_dtree= GridSearchCV(dtree_clf,\n",
    "                         dtree_param,\n",
    "                         cv = 3,\n",
    "                         scoring = 'accuracy',\n",
    "                         verbose = 1,\n",
    "                         n_jobs=-1)\n",
    "\n",
    "grids = {\"gs_reg_log\": gs_reg_log,\n",
    "        \"gs_rand_forest\": gs_rand_forest,\n",
    "        \"gs_svm\": gs_svm,\n",
    "        \"gs_knc\": gs_knc,\n",
    "        \"gs_dtree\": gs_dtree\n",
    "        }"
   ]
  },
  {
   "cell_type": "code",
   "execution_count": 9,
   "metadata": {},
   "outputs": [
    {
     "name": "stdout",
     "output_type": "stream",
     "text": [
      "Fitting 3 folds for each of 20 candidates, totalling 60 fits\n",
      "Fitting 3 folds for each of 9 candidates, totalling 27 fits\n",
      "Fitting 3 folds for each of 72 candidates, totalling 216 fits\n",
      "Fitting 3 folds for each of 4 candidates, totalling 12 fits\n",
      "Fitting 3 folds for each of 4 candidates, totalling 12 fits\n"
     ]
    }
   ],
   "source": [
    "\n",
    "for nombre, grid_search in grids.items():\n",
    "    grid_search.fit(X_train, y_train)"
   ]
  },
  {
   "cell_type": "code",
   "execution_count": 10,
   "metadata": {},
   "outputs": [],
   "source": [
    "X_test = df_test.drop(columns=[\"name_img\",\"name_img_encode\"])\n",
    "y_test = df_test[\"name_img_encode\"]"
   ]
  },
  {
   "cell_type": "code",
   "execution_count": 11,
   "metadata": {},
   "outputs": [],
   "source": [
    "l_err = {\"name\": [],\"accuracy\": []}\n",
    "for nombre, grid_search in grids.items():\n",
    "    y_pred = grid_search.best_estimator_.predict(X_test)\n",
    "    l_err[\"name\"].append(nombre)\n",
    "    l_err[\"accuracy\"].append(accuracy_score(y_test, y_pred))\n"
   ]
  },
  {
   "cell_type": "code",
   "execution_count": 12,
   "metadata": {},
   "outputs": [],
   "source": [
    "model_data = pd.DataFrame(l_err, columns=l_err.keys())\n",
    "model_data.to_csv(\"..\\\\data\\\\datasets\\\\sm_acc.csv\")"
   ]
  },
  {
   "cell_type": "code",
   "execution_count": 13,
   "metadata": {},
   "outputs": [
    {
     "data": {
      "text/html": [
       "<div>\n",
       "<style scoped>\n",
       "    .dataframe tbody tr th:only-of-type {\n",
       "        vertical-align: middle;\n",
       "    }\n",
       "\n",
       "    .dataframe tbody tr th {\n",
       "        vertical-align: top;\n",
       "    }\n",
       "\n",
       "    .dataframe thead th {\n",
       "        text-align: right;\n",
       "    }\n",
       "</style>\n",
       "<table border=\"1\" class=\"dataframe\">\n",
       "  <thead>\n",
       "    <tr style=\"text-align: right;\">\n",
       "      <th></th>\n",
       "      <th>name</th>\n",
       "      <th>accuracy</th>\n",
       "    </tr>\n",
       "  </thead>\n",
       "  <tbody>\n",
       "    <tr>\n",
       "      <th>0</th>\n",
       "      <td>gs_reg_log</td>\n",
       "      <td>0.511811</td>\n",
       "    </tr>\n",
       "    <tr>\n",
       "      <th>1</th>\n",
       "      <td>gs_rand_forest</td>\n",
       "      <td>0.639227</td>\n",
       "    </tr>\n",
       "    <tr>\n",
       "      <th>2</th>\n",
       "      <td>gs_svm</td>\n",
       "      <td>0.310666</td>\n",
       "    </tr>\n",
       "    <tr>\n",
       "      <th>3</th>\n",
       "      <td>gs_knc</td>\n",
       "      <td>0.364352</td>\n",
       "    </tr>\n",
       "    <tr>\n",
       "      <th>4</th>\n",
       "      <td>gs_dtree</td>\n",
       "      <td>0.360057</td>\n",
       "    </tr>\n",
       "  </tbody>\n",
       "</table>\n",
       "</div>"
      ],
      "text/plain": [
       "             name  accuracy\n",
       "0      gs_reg_log  0.511811\n",
       "1  gs_rand_forest  0.639227\n",
       "2          gs_svm  0.310666\n",
       "3          gs_knc  0.364352\n",
       "4        gs_dtree  0.360057"
      ]
     },
     "execution_count": 13,
     "metadata": {},
     "output_type": "execute_result"
    }
   ],
   "source": [
    "model_data"
   ]
  },
  {
   "cell_type": "code",
   "execution_count": 14,
   "metadata": {},
   "outputs": [],
   "source": [
    "for nombre, grid_search in grids.items():\n",
    "    best_estimator = grid_search.best_estimator_\n",
    "    best_params = grid_search.best_params_\n",
    "\n",
    "    with open(f'..\\\\models\\\\supervissed\\\\{nombre}_model.pkl', 'wb') as archivo_salida:\n",
    "       pickle.dump(best_estimator, archivo_salida)\n",
    "\n",
    "    with open(f'..\\\\models\\\\supervissed\\\\{nombre}_model.yml', 'w') as archivo_yaml:\n",
    "        yaml.dump(best_params, archivo_yaml, default_flow_style=False)"
   ]
  }
 ],
 "metadata": {
  "kernelspec": {
   "display_name": "Python 3",
   "language": "python",
   "name": "python3"
  },
  "language_info": {
   "codemirror_mode": {
    "name": "ipython",
    "version": 3
   },
   "file_extension": ".py",
   "mimetype": "text/x-python",
   "name": "python",
   "nbconvert_exporter": "python",
   "pygments_lexer": "ipython3",
   "version": "3.11.4"
  }
 },
 "nbformat": 4,
 "nbformat_minor": 2
}
